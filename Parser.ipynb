{
 "cells": [
  {
   "cell_type": "code",
   "execution_count": 1,
   "metadata": {
    "collapsed": true
   },
   "outputs": [],
   "source": [
    "import pandas as pd\n",
    "import numpy as np\n",
    "import re\n",
    "import os.path\n",
    "import io\n",
    "from bs4 import BeautifulSoup"
   ]
  },
  {
   "cell_type": "code",
   "execution_count": 2,
   "metadata": {
    "collapsed": true
   },
   "outputs": [],
   "source": [
    "text_files = '/Users/home/LiberatingArchives/corpus'"
   ]
  },
  {
   "cell_type": "code",
   "execution_count": 3,
   "metadata": {
    "collapsed": true
   },
   "outputs": [],
   "source": [
    "all_text = []\n",
    "for file in os.listdir(text_files):\n",
    "    if file != '.DS_Store':\n",
    "        all_text.append(os.path.join(text_files, file))"
   ]
  },
  {
   "cell_type": "code",
   "execution_count": 4,
   "metadata": {
    "collapsed": true
   },
   "outputs": [],
   "source": [
    "# Global Lists for all Texts\n",
    "all_titles = []\n",
    "all_dates = []\n",
    "all_post_id = []\n",
    "all_locations = []\n",
    "all_categories = [] # list within list\n",
    "all_entry_content = []\n",
    "\n",
    "# Global Lists for Legislation Texts\n",
    "bill_number = [] # i.e. AB ###\n",
    "bill_author = []\n",
    "bill_party = []\n",
    "bill_post_id = []\n",
    "bill_title = []\n",
    "bill_veto = [] # True = Veto\n",
    "bill_pdf_link = []\n",
    "\n",
    "# Global Lists for Appointments\n",
    "app_post_id = []\n",
    "app_dates = []\n",
    "app_name = []\n",
    "app_gender = []\n",
    "app_party = []\n",
    "app_full_descr = []\n",
    "app_entry_content = []"
   ]
  },
  {
   "cell_type": "code",
   "execution_count": 5,
   "metadata": {
    "collapsed": false
   },
   "outputs": [],
   "source": [
    "cats = set()"
   ]
  },
  {
   "cell_type": "code",
   "execution_count": 6,
   "metadata": {
    "collapsed": false
   },
   "outputs": [],
   "source": [
    "for textFile in all_text: # Change to length of list\n",
    "    with open(textFile, \"r\") as f:\n",
    "        curr_text = f.read()\n",
    "    #\n",
    "    all_titles.append(re.findall(\"\"\"<h1 class=\\\"[^\\\"]+\\\".*?>(.+?)<\\/h1>\"\"\", curr_text)[0])\n",
    "    try:\n",
    "        date = re.findall(\"\"\"Published: <time datetime=\\\"(.*?)\\\"\"\"\", curr_text)[0]\n",
    "    except IndexError:\n",
    "        date = np.nan # Date not specified in text file. There is 1 occurrence.\n",
    "    \n",
    "    all_dates.append(date)\n",
    "        \n",
    "    post_id = re.findall(\"\"\"<article id=\\\"post-([\\d]+)\\\"\"\"\", curr_text)[0]\n",
    "    categories = re.findall(\"\"\"category-([\\w-]+)\"\"\", curr_text)\n",
    "    \n",
    "    all_post_id.append(int(post_id))\n",
    "    all_categories.append(categories)\n",
    "    \n",
    "    cats.update(categories)\n",
    "    \n",
    "    curr1_text = re.findall(\"\"\"<div class=\\\"entry-content\\\">([\\s\\S]+?)<!-- .et_pb_post -->\"\"\", curr_text)\n",
    "    souped = BeautifulSoup(curr1_text[0], 'html.parser')\n",
    "    text_parsed = souped.get_text()\n",
    "    \n",
    "    all_entry_content.append(text_parsed)\n",
    "    \n",
    "    try:\n",
    "        all_locations.append(re.findall('([A-Z][A-Z| ]+)', text_parsed)[0])\n",
    "    except IndexError:\n",
    "        all_locations.append(np.nan)\n",
    "    \n",
    "    \n",
    "    #\n",
    "    if 'appointments' in categories:\n",
    "        apps = [app for app in re.split('\\n', text_parsed) if not app.isspace() and app != '' and app != '###'][1:]\n",
    "        \n",
    "        prev = -1\n",
    "        for app in apps:\n",
    "            flag = True\n",
    "            #print(app)\n",
    "            \n",
    "            try:\n",
    "                name = re.findall('^(?:[•|–]\\t)?(?:– )?(.+?),', app)[0] \n",
    "                app_name.append(name)\n",
    "                if 'compensation' in name:\n",
    "                    \n",
    "                    app_full_descr[prev] = app_full_descr[prev] + ' ' + name\n",
    "                    flag = False\n",
    "                    \n",
    "            except IndexError:\n",
    "                if flag:\n",
    "                    app_name.append('')\n",
    "            \n",
    "            if True:\n",
    "                app_post_id.append(int(post_id))\n",
    "                app_dates.append(date)\n",
    "                \n",
    "                if 'She ' in app or ' she ' in app or 'female' in app or 'lesbian' in app:\n",
    "                    app_gender.append('F')\n",
    "                elif 'He ' in app or ' he ' in app:\n",
    "                    app_gender.append('M')\n",
    "                else:\n",
    "                    app_gender.append(np.nan)\n",
    "            \n",
    "                try:\n",
    "                    app_party.append(re.findall('Democrat|Republican', app)[0])\n",
    "                    \n",
    "                except IndexError:\n",
    "                    app_party.append(np.nan)\n",
    "                \n",
    "                app_full_descr.append(app)\n",
    "            \n",
    "                app_entry_content.append(text_parsed)\n",
    "           \n",
    "   # elif 'legislation' in categories:\n",
    "    #    bill_split_veto = souped_bill_entry_content_no_html.split(\"vetoed\")\n",
    "     #   bills_regex = \"\"\"(\\w+?\\s\\d+?) by ([\\s\\S]+?)( | \\(([\\w\\s-]+?)\\) )(–|which) ([\\s\\S]+?)(\\.|\\n)\"\"\"\n",
    "      #  bills_passed = re.findall(bills_regex, bill_split_veto[0])\n",
    "       # bills_vetoed = []\n",
    "       # if len(bill_split_veto) == 2:\n",
    "        #    bills_vetoed = re.findall(bills_regex, bill_split_veto[1])\n"
   ]
  },
  {
   "cell_type": "code",
   "execution_count": 7,
   "metadata": {
    "collapsed": false
   },
   "outputs": [],
   "source": [
    "#all_titles = []\n",
    "#all_dates = []\n",
    "#all_post_id = []\n",
    "#all_locations = []\n",
    "#all_categories = []  list within list\n",
    "#all_entry_content = []"
   ]
  },
  {
   "cell_type": "code",
   "execution_count": 8,
   "metadata": {
    "collapsed": true
   },
   "outputs": [],
   "source": [
    "#app_post_id = []\n",
    "#app_name = []\n",
    "#app_role = []\n",
    "#app_party = []"
   ]
  },
  {
   "cell_type": "code",
   "execution_count": 9,
   "metadata": {
    "collapsed": false
   },
   "outputs": [],
   "source": [
    "apps_tbl = pd.DataFrame()\n",
    "apps_tbl['post_id'] = app_post_id\n",
    "apps_tbl['date'] = app_dates\n",
    "apps_tbl['date'] = pd.to_datetime(apps_tbl['date'])\n",
    "\n",
    "apps_tbl['name'] = app_name\n",
    "apps_tbl['gender'] = app_gender\n",
    "apps_tbl['party'] = app_party\n",
    "apps_tbl['description'] = app_full_descr\n",
    "#apps_tbl['full'] = app_entry_content"
   ]
  },
  {
   "cell_type": "code",
   "execution_count": 10,
   "metadata": {
    "collapsed": false
   },
   "outputs": [],
   "source": [
    "apps_tbl['name'] = apps_tbl['name'].apply(lambda x: np.nan if 'compensation' in x or x == '' else x)"
   ]
  },
  {
   "cell_type": "code",
   "execution_count": 11,
   "metadata": {
    "collapsed": false
   },
   "outputs": [],
   "source": [
    "apps_tbl.dropna(subset = ['name'], inplace = True)"
   ]
  },
  {
   "cell_type": "code",
   "execution_count": 12,
   "metadata": {
    "collapsed": false
   },
   "outputs": [],
   "source": [
    "apps_tbl = apps_tbl[~apps_tbl.name.str.contains(\"\"\"^“.\"\"\")]\n",
    "apps_tbl = apps_tbl[~apps_tbl.name.str.contains(\"\\d\")]\n",
    "apps_tbl = apps_tbl[~apps_tbl.name.str.contains(\"NOTE\")]\n",
    "apps_tbl = apps_tbl[~apps_tbl.name.str.contains(\",\")]\n",
    "apps_tbl = apps_tbl[~apps_tbl.name.str.contains(\"Commanding\")]\n",
    "apps_tbl['name'] = apps_tbl['name'].str.replace('^ ', '')\n",
    "apps_tbl = apps_tbl[(~apps_tbl.name.str.contains(\" [a-z]\")) & (~apps_tbl.name.str.contains(\" de\")) & \n",
    "                 (~apps_tbl.name.str.contains(\" van \")) & (~apps_tbl.name.str.contains(\" von \"))]\n",
    "apps_tbl = apps_tbl.drop_duplicates(subset = ['name', 'date']) #3 duplicates\n",
    "apps_tbl = apps_tbl.sort_values('post_id').reset_index(drop = True)"
   ]
  },
  {
   "cell_type": "code",
   "execution_count": 13,
   "metadata": {
    "collapsed": false
   },
   "outputs": [
    {
     "data": {
      "text/html": [
       "<div>\n",
       "<table border=\"1\" class=\"dataframe\">\n",
       "  <thead>\n",
       "    <tr style=\"text-align: right;\">\n",
       "      <th></th>\n",
       "      <th>post_id</th>\n",
       "      <th>date</th>\n",
       "      <th>name</th>\n",
       "      <th>gender</th>\n",
       "      <th>party</th>\n",
       "      <th>description</th>\n",
       "    </tr>\n",
       "  </thead>\n",
       "  <tbody>\n",
       "    <tr>\n",
       "      <th>0</th>\n",
       "      <td>652</td>\n",
       "      <td>2011-01-05</td>\n",
       "      <td>Marty Morgenstern</td>\n",
       "      <td>M</td>\n",
       "      <td>Democrat</td>\n",
       "      <td>Marty Morgenstern, of Oakland, has been appoin...</td>\n",
       "    </tr>\n",
       "    <tr>\n",
       "      <th>1</th>\n",
       "      <td>652</td>\n",
       "      <td>2011-01-05</td>\n",
       "      <td>Mary Nichols</td>\n",
       "      <td>F</td>\n",
       "      <td>Democrat</td>\n",
       "      <td>Mary Nichols, of Los Angeles, has been reappoi...</td>\n",
       "    </tr>\n",
       "    <tr>\n",
       "      <th>2</th>\n",
       "      <td>652</td>\n",
       "      <td>2011-01-05</td>\n",
       "      <td>Ronald Yank</td>\n",
       "      <td>M</td>\n",
       "      <td>Democrat</td>\n",
       "      <td>Ronald Yank, of Oakland, has been appointed Di...</td>\n",
       "    </tr>\n",
       "    <tr>\n",
       "      <th>3</th>\n",
       "      <td>652</td>\n",
       "      <td>2011-01-05</td>\n",
       "      <td>Dr. Carl Anthony Cohn</td>\n",
       "      <td>M</td>\n",
       "      <td>Democrat</td>\n",
       "      <td>Dr. Carl Anthony Cohn, of Palm Springs, has be...</td>\n",
       "    </tr>\n",
       "    <tr>\n",
       "      <th>4</th>\n",
       "      <td>652</td>\n",
       "      <td>2011-01-05</td>\n",
       "      <td>Louis “Bill” Honig</td>\n",
       "      <td>M</td>\n",
       "      <td>Democrat</td>\n",
       "      <td>Louis “Bill” Honig, of Marin, has been appoint...</td>\n",
       "    </tr>\n",
       "  </tbody>\n",
       "</table>\n",
       "</div>"
      ],
      "text/plain": [
       "   post_id       date                   name gender     party  \\\n",
       "0      652 2011-01-05      Marty Morgenstern      M  Democrat   \n",
       "1      652 2011-01-05           Mary Nichols      F  Democrat   \n",
       "2      652 2011-01-05            Ronald Yank      M  Democrat   \n",
       "3      652 2011-01-05  Dr. Carl Anthony Cohn      M  Democrat   \n",
       "4      652 2011-01-05     Louis “Bill” Honig      M  Democrat   \n",
       "\n",
       "                                         description  \n",
       "0  Marty Morgenstern, of Oakland, has been appoin...  \n",
       "1  Mary Nichols, of Los Angeles, has been reappoi...  \n",
       "2  Ronald Yank, of Oakland, has been appointed Di...  \n",
       "3  Dr. Carl Anthony Cohn, of Palm Springs, has be...  \n",
       "4  Louis “Bill” Honig, of Marin, has been appoint...  "
      ]
     },
     "execution_count": 13,
     "metadata": {},
     "output_type": "execute_result"
    }
   ],
   "source": [
    "apps_tbl.head()"
   ]
  },
  {
   "cell_type": "code",
   "execution_count": null,
   "metadata": {
    "collapsed": false
   },
   "outputs": [],
   "source": []
  },
  {
   "cell_type": "code",
   "execution_count": null,
   "metadata": {
    "collapsed": false
   },
   "outputs": [],
   "source": [
    "#set_diff_df = pd.concat([y, x, x]).drop_duplicates(keep=False) #duplicate eda"
   ]
  },
  {
   "cell_type": "code",
   "execution_count": null,
   "metadata": {
    "collapsed": false
   },
   "outputs": [],
   "source": []
  },
  {
   "cell_type": "code",
   "execution_count": null,
   "metadata": {
    "collapsed": false
   },
   "outputs": [],
   "source": []
  },
  {
   "cell_type": "code",
   "execution_count": null,
   "metadata": {
    "collapsed": false
   },
   "outputs": [],
   "source": [
    "\n",
    "\n",
    "#x = apps_tbl[~apps_tbl.name.str.contains(\"\"\"^“.\"\"\")].sort_values('name').description.values[-4]\n",
    "#re.findall('^(?:[•|–]\\t)?(.+?),', x)\n"
   ]
  },
  {
   "cell_type": "code",
   "execution_count": null,
   "metadata": {
    "collapsed": false
   },
   "outputs": [],
   "source": [
    "#apps_tbl['name'] = apps_tbl['name'].str.rstrip()\n",
    "#apps_tbl[~apps_tbl.name.str.contains('hi')]\n",
    "#apps_tbl[apps_tbl.name != 'str']\n",
    "#apps_tbl.sort_values('name')\n",
    "#temp = apps_tbl.loc[apps_tbl.name.isnull()]\n",
    "#temp.description.values[0]\n",
    "#temp"
   ]
  },
  {
   "cell_type": "code",
   "execution_count": null,
   "metadata": {
    "collapsed": false
   },
   "outputs": [],
   "source": [
    "#apps_tbl.iloc[499:507]"
   ]
  },
  {
   "cell_type": "code",
   "execution_count": null,
   "metadata": {
    "collapsed": true
   },
   "outputs": [],
   "source": []
  },
  {
   "cell_type": "code",
   "execution_count": null,
   "metadata": {
    "collapsed": true
   },
   "outputs": [],
   "source": []
  },
  {
   "cell_type": "code",
   "execution_count": null,
   "metadata": {
    "collapsed": true
   },
   "outputs": [],
   "source": []
  },
  {
   "cell_type": "code",
   "execution_count": null,
   "metadata": {
    "collapsed": true
   },
   "outputs": [],
   "source": []
  },
  {
   "cell_type": "code",
   "execution_count": null,
   "metadata": {
    "collapsed": true
   },
   "outputs": [],
   "source": [
    "#apps_tbl.dropna(subset = ['name'], inplace = True)\n",
    "#s = apps_tbl.name.str.len().sort_values().index"
   ]
  },
  {
   "cell_type": "code",
   "execution_count": null,
   "metadata": {
    "collapsed": false
   },
   "outputs": [],
   "source": [
    "#apps_tbl = apps_tbl.reindex(s)\n",
    "#apps_tbl = apps_tbl.iloc[:5640]"
   ]
  },
  {
   "cell_type": "code",
   "execution_count": null,
   "metadata": {
    "collapsed": false
   },
   "outputs": [],
   "source": [
    "#apps_tbl#.full_text[0]"
   ]
  },
  {
   "cell_type": "code",
   "execution_count": null,
   "metadata": {
    "collapsed": false
   },
   "outputs": [],
   "source": [
    "#temp = temp[~temp.name.str.contains(\"NOTE\")]\n",
    "#temp = temp[~temp.name.str.contains(\"Justice\")]\n",
    "#temp = temp[~temp.name.str.contains(\",\")]\n",
    "#temp = temp[~temp.name.str.contains(\"committee\")]\n",
    "#temp = temp[~temp.name.str.contains(\"moments\")]\n",
    "#temp = temp[~temp.name.str.contains(\"According\")]\n",
    "#temp.iloc[5700:]"
   ]
  },
  {
   "cell_type": "code",
   "execution_count": null,
   "metadata": {
    "collapsed": true
   },
   "outputs": [],
   "source": []
  },
  {
   "cell_type": "code",
   "execution_count": 35,
   "metadata": {
    "collapsed": false
   },
   "outputs": [
    {
     "data": {
      "text/html": [
       "<div>\n",
       "<table border=\"1\" class=\"dataframe\">\n",
       "  <thead>\n",
       "    <tr style=\"text-align: right;\">\n",
       "      <th></th>\n",
       "      <th>post_id</th>\n",
       "      <th>date</th>\n",
       "      <th>title</th>\n",
       "      <th>location</th>\n",
       "      <th>categories</th>\n",
       "      <th>entry_content</th>\n",
       "    </tr>\n",
       "  </thead>\n",
       "  <tbody>\n",
       "    <tr>\n",
       "      <th>0</th>\n",
       "      <td>4507</td>\n",
       "      <td>Jan 03, 2011</td>\n",
       "      <td>Governor Brown to Meet with Local Government L...</td>\n",
       "      <td>SACRAMENTO</td>\n",
       "      <td>[media-advisories, press-releases]</td>\n",
       "      <td>\\n    \\nSACRAMENTO – Governor Jerry Brown will...</td>\n",
       "    </tr>\n",
       "    <tr>\n",
       "      <th>1</th>\n",
       "      <td>663</td>\n",
       "      <td>Jan 17, 2011</td>\n",
       "      <td>Governor Brown Issues Statement Concerning Mar...</td>\n",
       "      <td>I</td>\n",
       "      <td>[civil-rights, press-releases]</td>\n",
       "      <td>Today the Governor issued the following statem...</td>\n",
       "    </tr>\n",
       "    <tr>\n",
       "      <th>2</th>\n",
       "      <td>5694</td>\n",
       "      <td>May 26, 2011</td>\n",
       "      <td>Governor and First Lady Honor Sgt. Kristoffers...</td>\n",
       "      <td>SACRAMENTO</td>\n",
       "      <td>[press-releases, veterans-military]</td>\n",
       "      <td>SACRAMENTO – On behalf of all Californians, Go...</td>\n",
       "    </tr>\n",
       "    <tr>\n",
       "      <th>3</th>\n",
       "      <td>3963</td>\n",
       "      <td>Dec 27, 2013</td>\n",
       "      <td>Governor Brown Appoints Dean Benjamini to Rive...</td>\n",
       "      <td>SACRAMENTO</td>\n",
       "      <td>[appointments, press-releases]</td>\n",
       "      <td>SACRAMENTO – Governor Edmund G. Brown Jr. toda...</td>\n",
       "    </tr>\n",
       "    <tr>\n",
       "      <th>4</th>\n",
       "      <td>3962</td>\n",
       "      <td>Dec 27, 2013</td>\n",
       "      <td>Governor Brown Appoints Two to Orange County S...</td>\n",
       "      <td>SACRAMENTO</td>\n",
       "      <td>[appointments, press-releases]</td>\n",
       "      <td>SACRAMENTO – Governor Edmund G. Brown Jr. toda...</td>\n",
       "    </tr>\n",
       "  </tbody>\n",
       "</table>\n",
       "</div>"
      ],
      "text/plain": [
       "   post_id          date                                              title  \\\n",
       "0     4507  Jan 03, 2011  Governor Brown to Meet with Local Government L...   \n",
       "1      663  Jan 17, 2011  Governor Brown Issues Statement Concerning Mar...   \n",
       "2     5694  May 26, 2011  Governor and First Lady Honor Sgt. Kristoffers...   \n",
       "3     3963  Dec 27, 2013  Governor Brown Appoints Dean Benjamini to Rive...   \n",
       "4     3962  Dec 27, 2013  Governor Brown Appoints Two to Orange County S...   \n",
       "\n",
       "      location                           categories  \\\n",
       "0  SACRAMENTO    [media-advisories, press-releases]   \n",
       "1           I        [civil-rights, press-releases]   \n",
       "2  SACRAMENTO   [press-releases, veterans-military]   \n",
       "3  SACRAMENTO        [appointments, press-releases]   \n",
       "4  SACRAMENTO        [appointments, press-releases]   \n",
       "\n",
       "                                       entry_content  \n",
       "0  \\n    \\nSACRAMENTO – Governor Jerry Brown will...  \n",
       "1  Today the Governor issued the following statem...  \n",
       "2  SACRAMENTO – On behalf of all Californians, Go...  \n",
       "3  SACRAMENTO – Governor Edmund G. Brown Jr. toda...  \n",
       "4  SACRAMENTO – Governor Edmund G. Brown Jr. toda...  "
      ]
     },
     "execution_count": 35,
     "metadata": {},
     "output_type": "execute_result"
    }
   ],
   "source": [
    "full_tbl = pd.DataFrame()\n",
    "full_tbl['post_id'] = all_post_id\n",
    "full_tbl['date'] = all_dates\n",
    "full_tbl['title'] = all_titles\n",
    "full_tbl['location'] = all_locations\n",
    "full_tbl['categories'] = all_categories\n",
    "full_tbl['entry_content'] = all_entry_content\n",
    "full_tbl.head()"
   ]
  },
  {
   "cell_type": "code",
   "execution_count": 36,
   "metadata": {
    "collapsed": false
   },
   "outputs": [
    {
     "data": {
      "text/html": [
       "<div>\n",
       "<table border=\"1\" class=\"dataframe\">\n",
       "  <thead>\n",
       "    <tr style=\"text-align: right;\">\n",
       "      <th></th>\n",
       "      <th>post_id</th>\n",
       "      <th>date</th>\n",
       "      <th>title</th>\n",
       "      <th>location</th>\n",
       "      <th>categories</th>\n",
       "      <th>entry_content</th>\n",
       "    </tr>\n",
       "  </thead>\n",
       "  <tbody>\n",
       "    <tr>\n",
       "      <th>0</th>\n",
       "      <td>4507</td>\n",
       "      <td>2011-01-03</td>\n",
       "      <td>Governor Brown to Meet with Local Government L...</td>\n",
       "      <td>SACRAMENTO</td>\n",
       "      <td>[media-advisories, press-releases]</td>\n",
       "      <td>\\n    \\nSACRAMENTO – Governor Jerry Brown will...</td>\n",
       "    </tr>\n",
       "    <tr>\n",
       "      <th>1</th>\n",
       "      <td>663</td>\n",
       "      <td>2011-01-17</td>\n",
       "      <td>Governor Brown Issues Statement Concerning Mar...</td>\n",
       "      <td>I</td>\n",
       "      <td>[civil-rights, press-releases]</td>\n",
       "      <td>Today the Governor issued the following statem...</td>\n",
       "    </tr>\n",
       "    <tr>\n",
       "      <th>2</th>\n",
       "      <td>5694</td>\n",
       "      <td>2011-05-26</td>\n",
       "      <td>Governor and First Lady Honor Sgt. Kristoffers...</td>\n",
       "      <td>SACRAMENTO</td>\n",
       "      <td>[press-releases, veterans-military]</td>\n",
       "      <td>SACRAMENTO – On behalf of all Californians, Go...</td>\n",
       "    </tr>\n",
       "    <tr>\n",
       "      <th>3</th>\n",
       "      <td>3963</td>\n",
       "      <td>2013-12-27</td>\n",
       "      <td>Governor Brown Appoints Dean Benjamini to Rive...</td>\n",
       "      <td>SACRAMENTO</td>\n",
       "      <td>[appointments, press-releases]</td>\n",
       "      <td>SACRAMENTO – Governor Edmund G. Brown Jr. toda...</td>\n",
       "    </tr>\n",
       "    <tr>\n",
       "      <th>4</th>\n",
       "      <td>3962</td>\n",
       "      <td>2013-12-27</td>\n",
       "      <td>Governor Brown Appoints Two to Orange County S...</td>\n",
       "      <td>SACRAMENTO</td>\n",
       "      <td>[appointments, press-releases]</td>\n",
       "      <td>SACRAMENTO – Governor Edmund G. Brown Jr. toda...</td>\n",
       "    </tr>\n",
       "  </tbody>\n",
       "</table>\n",
       "</div>"
      ],
      "text/plain": [
       "   post_id       date                                              title  \\\n",
       "0     4507 2011-01-03  Governor Brown to Meet with Local Government L...   \n",
       "1      663 2011-01-17  Governor Brown Issues Statement Concerning Mar...   \n",
       "2     5694 2011-05-26  Governor and First Lady Honor Sgt. Kristoffers...   \n",
       "3     3963 2013-12-27  Governor Brown Appoints Dean Benjamini to Rive...   \n",
       "4     3962 2013-12-27  Governor Brown Appoints Two to Orange County S...   \n",
       "\n",
       "     location                           categories  \\\n",
       "0  SACRAMENTO   [media-advisories, press-releases]   \n",
       "1           I       [civil-rights, press-releases]   \n",
       "2  SACRAMENTO  [press-releases, veterans-military]   \n",
       "3  SACRAMENTO       [appointments, press-releases]   \n",
       "4  SACRAMENTO       [appointments, press-releases]   \n",
       "\n",
       "                                       entry_content  \n",
       "0  \\n    \\nSACRAMENTO – Governor Jerry Brown will...  \n",
       "1  Today the Governor issued the following statem...  \n",
       "2  SACRAMENTO – On behalf of all Californians, Go...  \n",
       "3  SACRAMENTO – Governor Edmund G. Brown Jr. toda...  \n",
       "4  SACRAMENTO – Governor Edmund G. Brown Jr. toda...  "
      ]
     },
     "execution_count": 36,
     "metadata": {},
     "output_type": "execute_result"
    }
   ],
   "source": [
    "#full_tbl['post_id'] = full_tbl['post_id'].apply(int)\n",
    "full_tbl['date'] = pd.to_datetime(full_tbl['date'])\n",
    "full_tbl['location'] = full_tbl['location'].str.rstrip()\n",
    "#full_tbl['entry_content'] = full_tbl['entry_content'].str.replace('\\n', '')\n",
    "full_tbl.head()"
   ]
  },
  {
   "cell_type": "code",
   "execution_count": 37,
   "metadata": {
    "collapsed": false
   },
   "outputs": [],
   "source": [
    "#full_tbl[full_tbl['location'].str.len() < 6]\n",
    "id_to_alter = [2730, 40696, 684, 2529, 7691, 663, 665, 2754, 1027, 9695, 4071, 9987, 10040, 10193, 1305, 20229, 5923, 6025, 6038, 656, 881, 4668, 657, 3848, 916, 7563, 7568, 7651]\n",
    "full_tbl.loc[full_tbl['post_id'].isin(id_to_alter),'location'] = [np.nan for _ in id_to_alter]"
   ]
  },
  {
   "cell_type": "code",
   "execution_count": 38,
   "metadata": {
    "collapsed": false
   },
   "outputs": [],
   "source": [
    "full_tbl.replace({'location': {'CIUDAD DE M': 'CIUDAD DE MEXICO'}}, inplace = True)"
   ]
  },
  {
   "cell_type": "code",
   "execution_count": 39,
   "metadata": {
    "collapsed": false
   },
   "outputs": [
    {
     "data": {
      "text/html": [
       "<div>\n",
       "<table border=\"1\" class=\"dataframe\">\n",
       "  <thead>\n",
       "    <tr style=\"text-align: right;\">\n",
       "      <th></th>\n",
       "      <th>post_id</th>\n",
       "      <th>date</th>\n",
       "      <th>title</th>\n",
       "      <th>location</th>\n",
       "      <th>categories</th>\n",
       "      <th>entry_content</th>\n",
       "    </tr>\n",
       "  </thead>\n",
       "  <tbody>\n",
       "    <tr>\n",
       "      <th>0</th>\n",
       "      <td>4507</td>\n",
       "      <td>2011-01-03</td>\n",
       "      <td>Governor Brown to Meet with Local Government L...</td>\n",
       "      <td>SACRAMENTO</td>\n",
       "      <td>[media-advisories, press-releases]</td>\n",
       "      <td>\\n    \\nSACRAMENTO – Governor Jerry Brown will...</td>\n",
       "    </tr>\n",
       "    <tr>\n",
       "      <th>1</th>\n",
       "      <td>663</td>\n",
       "      <td>2011-01-17</td>\n",
       "      <td>Governor Brown Issues Statement Concerning Mar...</td>\n",
       "      <td>NaN</td>\n",
       "      <td>[civil-rights, press-releases]</td>\n",
       "      <td>Today the Governor issued the following statem...</td>\n",
       "    </tr>\n",
       "    <tr>\n",
       "      <th>2</th>\n",
       "      <td>5694</td>\n",
       "      <td>2011-05-26</td>\n",
       "      <td>Governor and First Lady Honor Sgt. Kristoffers...</td>\n",
       "      <td>SACRAMENTO</td>\n",
       "      <td>[press-releases, veterans-military]</td>\n",
       "      <td>SACRAMENTO – On behalf of all Californians, Go...</td>\n",
       "    </tr>\n",
       "    <tr>\n",
       "      <th>3</th>\n",
       "      <td>3963</td>\n",
       "      <td>2013-12-27</td>\n",
       "      <td>Governor Brown Appoints Dean Benjamini to Rive...</td>\n",
       "      <td>SACRAMENTO</td>\n",
       "      <td>[appointments, press-releases]</td>\n",
       "      <td>SACRAMENTO – Governor Edmund G. Brown Jr. toda...</td>\n",
       "    </tr>\n",
       "    <tr>\n",
       "      <th>4</th>\n",
       "      <td>3962</td>\n",
       "      <td>2013-12-27</td>\n",
       "      <td>Governor Brown Appoints Two to Orange County S...</td>\n",
       "      <td>SACRAMENTO</td>\n",
       "      <td>[appointments, press-releases]</td>\n",
       "      <td>SACRAMENTO – Governor Edmund G. Brown Jr. toda...</td>\n",
       "    </tr>\n",
       "  </tbody>\n",
       "</table>\n",
       "</div>"
      ],
      "text/plain": [
       "   post_id       date                                              title  \\\n",
       "0     4507 2011-01-03  Governor Brown to Meet with Local Government L...   \n",
       "1      663 2011-01-17  Governor Brown Issues Statement Concerning Mar...   \n",
       "2     5694 2011-05-26  Governor and First Lady Honor Sgt. Kristoffers...   \n",
       "3     3963 2013-12-27  Governor Brown Appoints Dean Benjamini to Rive...   \n",
       "4     3962 2013-12-27  Governor Brown Appoints Two to Orange County S...   \n",
       "\n",
       "     location                           categories  \\\n",
       "0  SACRAMENTO   [media-advisories, press-releases]   \n",
       "1         NaN       [civil-rights, press-releases]   \n",
       "2  SACRAMENTO  [press-releases, veterans-military]   \n",
       "3  SACRAMENTO       [appointments, press-releases]   \n",
       "4  SACRAMENTO       [appointments, press-releases]   \n",
       "\n",
       "                                       entry_content  \n",
       "0  \\n    \\nSACRAMENTO – Governor Jerry Brown will...  \n",
       "1  Today the Governor issued the following statem...  \n",
       "2  SACRAMENTO – On behalf of all Californians, Go...  \n",
       "3  SACRAMENTO – Governor Edmund G. Brown Jr. toda...  \n",
       "4  SACRAMENTO – Governor Edmund G. Brown Jr. toda...  "
      ]
     },
     "execution_count": 39,
     "metadata": {},
     "output_type": "execute_result"
    }
   ],
   "source": [
    "#full_tbl['categories'] = full_tbl['categories'].apply(lambda x: ','.join(x))\n",
    "full_tbl.head()"
   ]
  },
  {
   "cell_type": "code",
   "execution_count": 40,
   "metadata": {
    "collapsed": false
   },
   "outputs": [],
   "source": [
    "#full_tbl.to_csv('/Users/home/LiberatingArchives/tbl_csv')"
   ]
  },
  {
   "cell_type": "code",
   "execution_count": 41,
   "metadata": {
    "collapsed": false
   },
   "outputs": [],
   "source": [
    "join_tbl = full_tbl.loc[:,['post_id', 'categories']]\n",
    "#x['cat1'] = x.categories.apply(lambda x: x[0])\n",
    "#x['cat2'] = x.categories.apply(lambda x: x[1])\n",
    "#x['num_cats'] = x.categories.apply(lambda x: len(x))\n",
    "join_tbl = pd.DataFrame(join_tbl.categories.apply(pd.Series).stack().reset_index(level=1, drop=True))\n",
    "join_tbl = join_tbl.reset_index()\n",
    "join_tbl.columns = ['release_id', 'category']"
   ]
  },
  {
   "cell_type": "code",
   "execution_count": 42,
   "metadata": {
    "collapsed": false
   },
   "outputs": [
    {
     "data": {
      "text/html": [
       "<div>\n",
       "<table border=\"1\" class=\"dataframe\">\n",
       "  <thead>\n",
       "    <tr style=\"text-align: right;\">\n",
       "      <th></th>\n",
       "      <th>release_id</th>\n",
       "      <th>category</th>\n",
       "    </tr>\n",
       "  </thead>\n",
       "  <tbody>\n",
       "    <tr>\n",
       "      <th>0</th>\n",
       "      <td>0</td>\n",
       "      <td>media-advisories</td>\n",
       "    </tr>\n",
       "    <tr>\n",
       "      <th>1</th>\n",
       "      <td>0</td>\n",
       "      <td>press-releases</td>\n",
       "    </tr>\n",
       "    <tr>\n",
       "      <th>2</th>\n",
       "      <td>1</td>\n",
       "      <td>civil-rights</td>\n",
       "    </tr>\n",
       "    <tr>\n",
       "      <th>3</th>\n",
       "      <td>1</td>\n",
       "      <td>press-releases</td>\n",
       "    </tr>\n",
       "    <tr>\n",
       "      <th>4</th>\n",
       "      <td>2</td>\n",
       "      <td>press-releases</td>\n",
       "    </tr>\n",
       "  </tbody>\n",
       "</table>\n",
       "</div>"
      ],
      "text/plain": [
       "   release_id          category\n",
       "0           0  media-advisories\n",
       "1           0    press-releases\n",
       "2           1      civil-rights\n",
       "3           1    press-releases\n",
       "4           2    press-releases"
      ]
     },
     "execution_count": 42,
     "metadata": {},
     "output_type": "execute_result"
    }
   ],
   "source": [
    "join_tbl.head()"
   ]
  },
  {
   "cell_type": "code",
   "execution_count": 43,
   "metadata": {
    "collapsed": false
   },
   "outputs": [],
   "source": [
    "cats_tbl = pd.DataFrame()\n",
    "cats_tbl['category'] = list(cats)\n",
    "cats_tbl = cats_tbl.reset_index().rename(columns = {'index': 'category_id'})"
   ]
  },
  {
   "cell_type": "code",
   "execution_count": 44,
   "metadata": {
    "collapsed": false
   },
   "outputs": [],
   "source": [
    "join_tbl = join_tbl.merge(cats_tbl, how = 'left').drop('category', axis = 1)"
   ]
  },
  {
   "cell_type": "code",
   "execution_count": 45,
   "metadata": {
    "collapsed": false
   },
   "outputs": [],
   "source": [
    "cats_tbl.category = cats_tbl.category.str.replace('-', ' ')"
   ]
  },
  {
   "cell_type": "code",
   "execution_count": 46,
   "metadata": {
    "collapsed": false
   },
   "outputs": [],
   "source": [
    "full_tbl.drop('categories', axis = 1, inplace = True)"
   ]
  },
  {
   "cell_type": "code",
   "execution_count": 47,
   "metadata": {
    "collapsed": false
   },
   "outputs": [],
   "source": [
    "full_tbl = full_tbl.sort_values('post_id').reset_index(drop = True)\n",
    "full_tbl = full_tbl.reset_index().rename(columns = {'index': 'release_id'})"
   ]
  },
  {
   "cell_type": "code",
   "execution_count": 48,
   "metadata": {
    "collapsed": false
   },
   "outputs": [
    {
     "data": {
      "text/html": [
       "<div>\n",
       "<table border=\"1\" class=\"dataframe\">\n",
       "  <thead>\n",
       "    <tr style=\"text-align: right;\">\n",
       "      <th></th>\n",
       "      <th>release_id</th>\n",
       "      <th>post_id</th>\n",
       "      <th>date</th>\n",
       "      <th>title</th>\n",
       "      <th>location</th>\n",
       "      <th>entry_content</th>\n",
       "    </tr>\n",
       "  </thead>\n",
       "  <tbody>\n",
       "    <tr>\n",
       "      <th>0</th>\n",
       "      <td>0</td>\n",
       "      <td>650</td>\n",
       "      <td>2011-01-03</td>\n",
       "      <td>Inauguration of Governor Jerry Brown</td>\n",
       "      <td>NaN</td>\n",
       "      <td>\\nOn Monday January 3, 2011, Jerry Brown was s...</td>\n",
       "    </tr>\n",
       "    <tr>\n",
       "      <th>1</th>\n",
       "      <td>1</td>\n",
       "      <td>652</td>\n",
       "      <td>2011-01-05</td>\n",
       "      <td>Governor Brown Announces Appointments</td>\n",
       "      <td>SACRAMENTO</td>\n",
       "      <td>SACRAMENTO – Governor Jerry Brown today announ...</td>\n",
       "    </tr>\n",
       "    <tr>\n",
       "      <th>2</th>\n",
       "      <td>2</td>\n",
       "      <td>653</td>\n",
       "      <td>2011-01-05</td>\n",
       "      <td>Governor Brown Announces Appointments</td>\n",
       "      <td>SACRAMENTO</td>\n",
       "      <td>SACRAMENTO – Governor Jerry Brown today announ...</td>\n",
       "    </tr>\n",
       "    <tr>\n",
       "      <th>3</th>\n",
       "      <td>3</td>\n",
       "      <td>654</td>\n",
       "      <td>2011-01-07</td>\n",
       "      <td>Governor Brown Returns 84 Percent of Transitio...</td>\n",
       "      <td>SACRAMENTO</td>\n",
       "      <td>SACRAMENTO – Governor Jerry Brown announced th...</td>\n",
       "    </tr>\n",
       "    <tr>\n",
       "      <th>4</th>\n",
       "      <td>4</td>\n",
       "      <td>656</td>\n",
       "      <td>2011-01-08</td>\n",
       "      <td>Governor Brown Issues Statement on Today’s Sho...</td>\n",
       "      <td>NaN</td>\n",
       "      <td>Today the Governor issued the following statem...</td>\n",
       "    </tr>\n",
       "  </tbody>\n",
       "</table>\n",
       "</div>"
      ],
      "text/plain": [
       "   release_id  post_id       date  \\\n",
       "0           0      650 2011-01-03   \n",
       "1           1      652 2011-01-05   \n",
       "2           2      653 2011-01-05   \n",
       "3           3      654 2011-01-07   \n",
       "4           4      656 2011-01-08   \n",
       "\n",
       "                                               title    location  \\\n",
       "0               Inauguration of Governor Jerry Brown         NaN   \n",
       "1              Governor Brown Announces Appointments  SACRAMENTO   \n",
       "2              Governor Brown Announces Appointments  SACRAMENTO   \n",
       "3  Governor Brown Returns 84 Percent of Transitio...  SACRAMENTO   \n",
       "4  Governor Brown Issues Statement on Today’s Sho...         NaN   \n",
       "\n",
       "                                       entry_content  \n",
       "0  \\nOn Monday January 3, 2011, Jerry Brown was s...  \n",
       "1  SACRAMENTO – Governor Jerry Brown today announ...  \n",
       "2  SACRAMENTO – Governor Jerry Brown today announ...  \n",
       "3  SACRAMENTO – Governor Jerry Brown announced th...  \n",
       "4  Today the Governor issued the following statem...  "
      ]
     },
     "execution_count": 48,
     "metadata": {},
     "output_type": "execute_result"
    }
   ],
   "source": [
    "full_tbl.head()"
   ]
  },
  {
   "cell_type": "code",
   "execution_count": 49,
   "metadata": {
    "collapsed": false
   },
   "outputs": [
    {
     "data": {
      "text/html": [
       "<div>\n",
       "<table border=\"1\" class=\"dataframe\">\n",
       "  <thead>\n",
       "    <tr style=\"text-align: right;\">\n",
       "      <th></th>\n",
       "      <th>category_id</th>\n",
       "      <th>category</th>\n",
       "    </tr>\n",
       "  </thead>\n",
       "  <tbody>\n",
       "    <tr>\n",
       "      <th>0</th>\n",
       "      <td>0</td>\n",
       "      <td>proclamations</td>\n",
       "    </tr>\n",
       "    <tr>\n",
       "      <th>1</th>\n",
       "      <td>1</td>\n",
       "      <td>agriculture</td>\n",
       "    </tr>\n",
       "    <tr>\n",
       "      <th>2</th>\n",
       "      <td>2</td>\n",
       "      <td>all</td>\n",
       "    </tr>\n",
       "    <tr>\n",
       "      <th>3</th>\n",
       "      <td>3</td>\n",
       "      <td>public safety criminal justice</td>\n",
       "    </tr>\n",
       "    <tr>\n",
       "      <th>4</th>\n",
       "      <td>4</td>\n",
       "      <td>legislation</td>\n",
       "    </tr>\n",
       "    <tr>\n",
       "      <th>5</th>\n",
       "      <td>5</td>\n",
       "      <td>health care</td>\n",
       "    </tr>\n",
       "    <tr>\n",
       "      <th>6</th>\n",
       "      <td>6</td>\n",
       "      <td>education</td>\n",
       "    </tr>\n",
       "    <tr>\n",
       "      <th>7</th>\n",
       "      <td>7</td>\n",
       "      <td>appointments</td>\n",
       "    </tr>\n",
       "    <tr>\n",
       "      <th>8</th>\n",
       "      <td>8</td>\n",
       "      <td>executive orders</td>\n",
       "    </tr>\n",
       "    <tr>\n",
       "      <th>9</th>\n",
       "      <td>9</td>\n",
       "      <td>economic mobility</td>\n",
       "    </tr>\n",
       "    <tr>\n",
       "      <th>10</th>\n",
       "      <td>10</td>\n",
       "      <td>tribal affairs</td>\n",
       "    </tr>\n",
       "    <tr>\n",
       "      <th>11</th>\n",
       "      <td>11</td>\n",
       "      <td>emergency response</td>\n",
       "    </tr>\n",
       "    <tr>\n",
       "      <th>12</th>\n",
       "      <td>12</td>\n",
       "      <td>top story</td>\n",
       "    </tr>\n",
       "    <tr>\n",
       "      <th>13</th>\n",
       "      <td>13</td>\n",
       "      <td>media advisories</td>\n",
       "    </tr>\n",
       "    <tr>\n",
       "      <th>14</th>\n",
       "      <td>14</td>\n",
       "      <td>civil rights</td>\n",
       "    </tr>\n",
       "    <tr>\n",
       "      <th>15</th>\n",
       "      <td>15</td>\n",
       "      <td>climate change environment</td>\n",
       "    </tr>\n",
       "    <tr>\n",
       "      <th>16</th>\n",
       "      <td>16</td>\n",
       "      <td>press releases</td>\n",
       "    </tr>\n",
       "    <tr>\n",
       "      <th>17</th>\n",
       "      <td>17</td>\n",
       "      <td>immigration</td>\n",
       "    </tr>\n",
       "    <tr>\n",
       "      <th>18</th>\n",
       "      <td>18</td>\n",
       "      <td>budget fiscal responsibility</td>\n",
       "    </tr>\n",
       "    <tr>\n",
       "      <th>19</th>\n",
       "      <td>19</td>\n",
       "      <td>water</td>\n",
       "    </tr>\n",
       "    <tr>\n",
       "      <th>20</th>\n",
       "      <td>20</td>\n",
       "      <td>transportation infrastructure</td>\n",
       "    </tr>\n",
       "    <tr>\n",
       "      <th>21</th>\n",
       "      <td>21</td>\n",
       "      <td>government reform</td>\n",
       "    </tr>\n",
       "    <tr>\n",
       "      <th>22</th>\n",
       "      <td>22</td>\n",
       "      <td>jobs trade economic development</td>\n",
       "    </tr>\n",
       "    <tr>\n",
       "      <th>23</th>\n",
       "      <td>23</td>\n",
       "      <td>veterans military</td>\n",
       "    </tr>\n",
       "  </tbody>\n",
       "</table>\n",
       "</div>"
      ],
      "text/plain": [
       "    category_id                         category\n",
       "0             0                    proclamations\n",
       "1             1                      agriculture\n",
       "2             2                              all\n",
       "3             3   public safety criminal justice\n",
       "4             4                      legislation\n",
       "5             5                      health care\n",
       "6             6                        education\n",
       "7             7                     appointments\n",
       "8             8                 executive orders\n",
       "9             9                economic mobility\n",
       "10           10                   tribal affairs\n",
       "11           11               emergency response\n",
       "12           12                        top story\n",
       "13           13                 media advisories\n",
       "14           14                     civil rights\n",
       "15           15       climate change environment\n",
       "16           16                   press releases\n",
       "17           17                      immigration\n",
       "18           18     budget fiscal responsibility\n",
       "19           19                            water\n",
       "20           20    transportation infrastructure\n",
       "21           21                government reform\n",
       "22           22  jobs trade economic development\n",
       "23           23                veterans military"
      ]
     },
     "execution_count": 49,
     "metadata": {},
     "output_type": "execute_result"
    }
   ],
   "source": [
    "cats_tbl"
   ]
  },
  {
   "cell_type": "code",
   "execution_count": 50,
   "metadata": {
    "collapsed": false
   },
   "outputs": [
    {
     "data": {
      "text/html": [
       "<div>\n",
       "<table border=\"1\" class=\"dataframe\">\n",
       "  <thead>\n",
       "    <tr style=\"text-align: right;\">\n",
       "      <th></th>\n",
       "      <th>release_id</th>\n",
       "      <th>category_id</th>\n",
       "    </tr>\n",
       "  </thead>\n",
       "  <tbody>\n",
       "    <tr>\n",
       "      <th>0</th>\n",
       "      <td>0</td>\n",
       "      <td>13</td>\n",
       "    </tr>\n",
       "    <tr>\n",
       "      <th>1</th>\n",
       "      <td>0</td>\n",
       "      <td>16</td>\n",
       "    </tr>\n",
       "    <tr>\n",
       "      <th>2</th>\n",
       "      <td>1</td>\n",
       "      <td>14</td>\n",
       "    </tr>\n",
       "    <tr>\n",
       "      <th>3</th>\n",
       "      <td>1</td>\n",
       "      <td>16</td>\n",
       "    </tr>\n",
       "    <tr>\n",
       "      <th>4</th>\n",
       "      <td>2</td>\n",
       "      <td>16</td>\n",
       "    </tr>\n",
       "  </tbody>\n",
       "</table>\n",
       "</div>"
      ],
      "text/plain": [
       "   release_id  category_id\n",
       "0           0           13\n",
       "1           0           16\n",
       "2           1           14\n",
       "3           1           16\n",
       "4           2           16"
      ]
     },
     "execution_count": 50,
     "metadata": {},
     "output_type": "execute_result"
    }
   ],
   "source": [
    "join_tbl.head()"
   ]
  },
  {
   "cell_type": "code",
   "execution_count": null,
   "metadata": {
    "collapsed": false
   },
   "outputs": [],
   "source": []
  },
  {
   "cell_type": "code",
   "execution_count": null,
   "metadata": {
    "collapsed": true
   },
   "outputs": [],
   "source": [
    "#put tables into db"
   ]
  },
  {
   "cell_type": "code",
   "execution_count": null,
   "metadata": {
    "collapsed": true
   },
   "outputs": [],
   "source": [
    "import sqlite3"
   ]
  },
  {
   "cell_type": "code",
   "execution_count": null,
   "metadata": {
    "collapsed": true
   },
   "outputs": [],
   "source": [
    "con = sqlite3.connect(\"database.db\")"
   ]
  },
  {
   "cell_type": "code",
   "execution_count": null,
   "metadata": {
    "collapsed": false
   },
   "outputs": [],
   "source": [
    "full_tbl.to_sql(\"all_releases\", con, if_exists = \"replace\")"
   ]
  },
  {
   "cell_type": "code",
   "execution_count": null,
   "metadata": {
    "collapsed": true
   },
   "outputs": [],
   "source": [
    "cats_tbl.to_sql(\"categories\", con, if_exists = \"replace\")"
   ]
  },
  {
   "cell_type": "code",
   "execution_count": null,
   "metadata": {
    "collapsed": true
   },
   "outputs": [],
   "source": [
    "join_tbl.to_sql(\"category_lookup\", con, if_exists = \"replace\")"
   ]
  },
  {
   "cell_type": "code",
   "execution_count": null,
   "metadata": {
    "collapsed": true
   },
   "outputs": [],
   "source": [
    "apps_tbl.to_sql(\"appointments\", con, if_exists = \"replace\")"
   ]
  },
  {
   "cell_type": "code",
   "execution_count": null,
   "metadata": {
    "collapsed": true
   },
   "outputs": [],
   "source": []
  },
  {
   "cell_type": "code",
   "execution_count": null,
   "metadata": {
    "collapsed": true
   },
   "outputs": [],
   "source": []
  },
  {
   "cell_type": "code",
   "execution_count": null,
   "metadata": {
    "collapsed": true
   },
   "outputs": [],
   "source": [
    "#topic modeling"
   ]
  },
  {
   "cell_type": "code",
   "execution_count": 25,
   "metadata": {
    "collapsed": false
   },
   "outputs": [],
   "source": [
    "from sklearn.feature_extraction.text import TfidfVectorizer, CountVectorizer\n",
    "from sklearn.decomposition import NMF, LatentDirichletAllocation\n",
    "\n",
    "def display_topics(model, feature_names, no_top_words):\n",
    "    for topic_idx, topic in enumerate(model.components_):\n",
    "        print(\"Topic %d:\" % (topic_idx + 1))\n",
    "        print(\", \".join([feature_names[i]\n",
    "                        for i in topic.argsort()[:-no_top_words - 1:-1]]))\n",
    "\n",
    "        \n",
    "documents = full_tbl.entry_content.values\n",
    "\n",
    "num_features = 1000\n",
    "\n",
    "# NMF is able to use tf-idf\n",
    "tfidf_vectorizer = TfidfVectorizer(max_df=0.95, min_df=2, max_features=num_features, stop_words='english')\n",
    "tfidf = tfidf_vectorizer.fit_transform(documents)\n",
    "tfidf_feature_names = tfidf_vectorizer.get_feature_names()\n",
    "\n",
    "# LDA can only use raw term counts for LDA because it is a probabilistic graphical model\n",
    "tf_vectorizer = CountVectorizer(max_df=0.95, min_df=2, max_features=num_features, stop_words='english')\n",
    "tf = tf_vectorizer.fit_transform(documents)\n",
    "tf_feature_names = tf_vectorizer.get_feature_names()\n",
    "\n"
   ]
  },
  {
   "cell_type": "code",
   "execution_count": null,
   "metadata": {
    "collapsed": false
   },
   "outputs": [],
   "source": []
  },
  {
   "cell_type": "code",
   "execution_count": 26,
   "metadata": {
    "collapsed": false
   },
   "outputs": [
    {
     "name": "stdout",
     "output_type": "stream",
     "text": [
      "NMF:\n",
      "Topic 1:\n",
      "california, senate, confirmation, position, compensation, director, appointed, board, served, does\n",
      "Topic 2:\n",
      "ab, assemblymember, sb, senator, message, veto, san, bills, diego, angeles\n",
      "Topic 3:\n",
      "lady, family, sgt, condolence, bravely, gust, gave, assigned, 1st, behalf\n",
      "Topic 4:\n",
      "attorney, court, degree, law, vacancy, county, university, superior, judge, bachelor\n",
      "Topic 5:\n",
      "climate, change, china, california, world, global, carbon, states, energy, percent\n",
      "Topic 6:\n",
      "california, state, budget, water, emergency, billion, said, funding, million, plan\n",
      "Topic 7:\n",
      "correctional, warden, prison, facility, deputy, corrections, served, rehabilitation, acting, captain\n",
      "Topic 8:\n",
      "officer, statement, death, issued, regarding, police, anne, honor, department, flags\n",
      "Topic 9:\n",
      "sb, leginfo, http, visit, text, gov, signed, ca, senator, bills\n",
      "Topic 10:\n",
      "compact, gaming, tribe, tribal, provisions, revenue, state, operation, enforcement, related\n",
      "\n",
      "LDA:\n",
      "Topic 1:\n",
      "california, china, trade, investment, president, business, development, state, economic, office\n",
      "Topic 2:\n",
      "state, budget, california, correctional, prison, warden, billion, funding, education, today\n",
      "Topic 3:\n",
      "ab, assemblymember, sb, senator, san, message, veto, bills, angeles, los\n",
      "Topic 4:\n",
      "el, la, los, del, en, california, méxico, para, women, 2014\n",
      "Topic 5:\n",
      "workers, compensation, reform, employees, pension, labor, retirement, benefits, costs, sb\n",
      "Topic 6:\n",
      "climate, california, change, state, energy, new, action, percent, states, global\n",
      "Topic 7:\n",
      "california, senate, confirmation, compensation, position, served, director, board, appointed, require\n",
      "Topic 8:\n",
      "officer, family, sacramento, state, today, staff, lady, capitol, anne, honor\n",
      "Topic 9:\n",
      "state, california, water, emergency, local, department, public, order, federal, today\n",
      "Topic 10:\n",
      "attorney, county, law, degree, court, university, california, served, juris, superior\n"
     ]
    }
   ],
   "source": [
    "num_topics = 10\n",
    "\n",
    "# Run NMF\n",
    "nmf = NMF(n_components=num_topics, random_state=1, alpha=.1, l1_ratio=.5, init='nndsvd').fit(tfidf)\n",
    "\n",
    "# Run LDA\n",
    "lda = LatentDirichletAllocation(n_topics=num_topics, max_iter=5, learning_method='online', learning_offset=50.,random_state=0).fit(tf)\n",
    "\n",
    "num_top_words = 10\n",
    "print('NMF:')\n",
    "display_topics(nmf, tfidf_feature_names, num_top_words)\n",
    "print('\\nLDA:')\n",
    "display_topics(lda, tf_feature_names, num_top_words)"
   ]
  },
  {
   "cell_type": "code",
   "execution_count": null,
   "metadata": {
    "collapsed": false
   },
   "outputs": [],
   "source": []
  },
  {
   "cell_type": "code",
   "execution_count": null,
   "metadata": {
    "collapsed": true
   },
   "outputs": [],
   "source": [
    "#hypothesis test"
   ]
  },
  {
   "cell_type": "code",
   "execution_count": 34,
   "metadata": {
    "collapsed": true
   },
   "outputs": [],
   "source": [
    "#Null: for each party, gender distribution of appointees is a srs drawn from population of registered voters of \n",
    "#      that party\n",
    "\n",
    "#Alt: distribution of appointees is more skewed than can be explained by random chance \n",
    "#  (what other force could explain it?)"
   ]
  },
  {
   "cell_type": "code",
   "execution_count": 14,
   "metadata": {
    "collapsed": true
   },
   "outputs": [],
   "source": [
    "import matplotlib.pyplot as plt\n",
    "%matplotlib inline"
   ]
  },
  {
   "cell_type": "code",
   "execution_count": 15,
   "metadata": {
    "collapsed": false
   },
   "outputs": [
    {
     "data": {
      "text/html": [
       "<div>\n",
       "<table border=\"1\" class=\"dataframe\">\n",
       "  <thead>\n",
       "    <tr style=\"text-align: right;\">\n",
       "      <th></th>\n",
       "      <th></th>\n",
       "      <th>post_id</th>\n",
       "      <th>date</th>\n",
       "      <th>name</th>\n",
       "      <th>description</th>\n",
       "    </tr>\n",
       "    <tr>\n",
       "      <th>gender</th>\n",
       "      <th>party</th>\n",
       "      <th></th>\n",
       "      <th></th>\n",
       "      <th></th>\n",
       "      <th></th>\n",
       "    </tr>\n",
       "  </thead>\n",
       "  <tbody>\n",
       "    <tr>\n",
       "      <th rowspan=\"2\" valign=\"top\">F</th>\n",
       "      <th>Democrat</th>\n",
       "      <td>1728</td>\n",
       "      <td>1728</td>\n",
       "      <td>1728</td>\n",
       "      <td>1728</td>\n",
       "    </tr>\n",
       "    <tr>\n",
       "      <th>Republican</th>\n",
       "      <td>401</td>\n",
       "      <td>401</td>\n",
       "      <td>401</td>\n",
       "      <td>401</td>\n",
       "    </tr>\n",
       "    <tr>\n",
       "      <th rowspan=\"2\" valign=\"top\">M</th>\n",
       "      <th>Democrat</th>\n",
       "      <td>1671</td>\n",
       "      <td>1671</td>\n",
       "      <td>1671</td>\n",
       "      <td>1671</td>\n",
       "    </tr>\n",
       "    <tr>\n",
       "      <th>Republican</th>\n",
       "      <td>698</td>\n",
       "      <td>698</td>\n",
       "      <td>698</td>\n",
       "      <td>698</td>\n",
       "    </tr>\n",
       "  </tbody>\n",
       "</table>\n",
       "</div>"
      ],
      "text/plain": [
       "                   post_id  date  name  description\n",
       "gender party                                       \n",
       "F      Democrat       1728  1728  1728         1728\n",
       "       Republican      401   401   401          401\n",
       "M      Democrat       1671  1671  1671         1671\n",
       "       Republican      698   698   698          698"
      ]
     },
     "execution_count": 15,
     "metadata": {},
     "output_type": "execute_result"
    }
   ],
   "source": [
    "apps_tbl.groupby(['gender', 'party']).count()"
   ]
  },
  {
   "cell_type": "code",
   "execution_count": 16,
   "metadata": {
    "collapsed": false
   },
   "outputs": [],
   "source": [
    "num_f_dem = apps_tbl.groupby(['gender', 'party']).count().iloc[:,0].values[0]\n",
    "num_f_rep = apps_tbl.groupby(['gender', 'party']).count().iloc[:,0].values[1]\n",
    "num_m_dem = apps_tbl.groupby(['gender', 'party']).count().iloc[:,0].values[2]\n",
    "num_m_rep = apps_tbl.groupby(['gender', 'party']).count().iloc[:,0].values[3]\n",
    "\n",
    "dem_pop_stat = num_f_dem/num_m_dem \n",
    "rep_pop_stat = num_f_rep/num_m_rep \n",
    "\n",
    "total_dem = num_f_dem + num_m_dem\n",
    "total_rep = num_f_rep + num_m_rep"
   ]
  },
  {
   "cell_type": "code",
   "execution_count": 17,
   "metadata": {
    "collapsed": false
   },
   "outputs": [
    {
     "data": {
      "text/html": [
       "<div>\n",
       "<table border=\"1\" class=\"dataframe\">\n",
       "  <thead>\n",
       "    <tr style=\"text-align: right;\">\n",
       "      <th></th>\n",
       "      <th>pop</th>\n",
       "    </tr>\n",
       "  </thead>\n",
       "  <tbody>\n",
       "    <tr>\n",
       "      <th>0</th>\n",
       "      <td>M</td>\n",
       "    </tr>\n",
       "    <tr>\n",
       "      <th>1</th>\n",
       "      <td>M</td>\n",
       "    </tr>\n",
       "    <tr>\n",
       "      <th>2</th>\n",
       "      <td>M</td>\n",
       "    </tr>\n",
       "    <tr>\n",
       "      <th>3</th>\n",
       "      <td>M</td>\n",
       "    </tr>\n",
       "    <tr>\n",
       "      <th>4</th>\n",
       "      <td>M</td>\n",
       "    </tr>\n",
       "  </tbody>\n",
       "</table>\n",
       "</div>"
      ],
      "text/plain": [
       "  pop\n",
       "0   M\n",
       "1   M\n",
       "2   M\n",
       "3   M\n",
       "4   M"
      ]
     },
     "execution_count": 17,
     "metadata": {},
     "output_type": "execute_result"
    }
   ],
   "source": [
    "dem_sample_tbl = pd.DataFrame()\n",
    "dem_sample_tbl['pop'] = ['M']*int(np.round(.45*total_dem)) + ['F']*int(np.round(.55*total_dem))\n",
    "dem_sample_tbl.head()"
   ]
  },
  {
   "cell_type": "code",
   "execution_count": 18,
   "metadata": {
    "collapsed": false
   },
   "outputs": [
    {
     "data": {
      "text/html": [
       "<div>\n",
       "<table border=\"1\" class=\"dataframe\">\n",
       "  <thead>\n",
       "    <tr style=\"text-align: right;\">\n",
       "      <th></th>\n",
       "      <th>pop</th>\n",
       "    </tr>\n",
       "  </thead>\n",
       "  <tbody>\n",
       "    <tr>\n",
       "      <th>0</th>\n",
       "      <td>M</td>\n",
       "    </tr>\n",
       "    <tr>\n",
       "      <th>1</th>\n",
       "      <td>M</td>\n",
       "    </tr>\n",
       "    <tr>\n",
       "      <th>2</th>\n",
       "      <td>M</td>\n",
       "    </tr>\n",
       "    <tr>\n",
       "      <th>3</th>\n",
       "      <td>M</td>\n",
       "    </tr>\n",
       "    <tr>\n",
       "      <th>4</th>\n",
       "      <td>M</td>\n",
       "    </tr>\n",
       "  </tbody>\n",
       "</table>\n",
       "</div>"
      ],
      "text/plain": [
       "  pop\n",
       "0   M\n",
       "1   M\n",
       "2   M\n",
       "3   M\n",
       "4   M"
      ]
     },
     "execution_count": 18,
     "metadata": {},
     "output_type": "execute_result"
    }
   ],
   "source": [
    "rep_sample_tbl = pd.DataFrame()\n",
    "rep_sample_tbl['pop'] = ['M']*int(np.round(.56*total_rep)) + ['F']*int(np.round(.44*total_rep))\n",
    "rep_sample_tbl.head()"
   ]
  },
  {
   "cell_type": "code",
   "execution_count": null,
   "metadata": {
    "collapsed": false
   },
   "outputs": [],
   "source": []
  },
  {
   "cell_type": "code",
   "execution_count": 21,
   "metadata": {
    "collapsed": false
   },
   "outputs": [
    {
     "data": {
      "image/png": "[encoded data removed]",
      "text/plain": [
       "<matplotlib.figure.Figure at 0x114b78cc0>"
      ]
     },
     "metadata": {},
     "output_type": "display_data"
    }
   ],
   "source": [
    "#dems\n",
    "dem_stats = []\n",
    "rep_stats = []\n",
    "for _ in np.arange(1000):\n",
    "    dem_m = sum(dem_sample_tbl['pop'].sample(n = total_dem, replace = True) == 'M')\n",
    "    dem_f = total_dem - dem_m\n",
    "    dem_stat = dem_f/dem_m\n",
    "    dem_stats.append(dem_stat)\n",
    "\n",
    "plt.hist(dem_stats, normed = True)\n",
    "plt.plot(dem_pop_stat, 0.2, marker='^', markersize=10, color='red')\n",
    "plt.xlabel('Ratio of Women to Men')\n",
    "plt.title('Dem Sample Stats');"
   ]
  },
  {
   "cell_type": "code",
   "execution_count": 23,
   "metadata": {
    "collapsed": false
   },
   "outputs": [
    {
     "data": {
      "image/png": "[encoded data removed]",
      "text/plain": [
       "<matplotlib.figure.Figure at 0x11561ce10>"
      ]
     },
     "metadata": {},
     "output_type": "display_data"
    }
   ],
   "source": [
    "#gop\n",
    "for _ in np.arange(1000) :   \n",
    "    rep_m = sum(rep_sample_tbl['pop'].sample(n = total_rep, replace = True) == 'M')\n",
    "    rep_f = total_rep - rep_m\n",
    "    rep_stat = rep_f/rep_m\n",
    "    rep_stats.append(rep_stat)\n",
    "    \n",
    "plt.hist(rep_stats, normed = True)\n",
    "plt.plot(rep_pop_stat, 0.2, marker='^', markersize=10, color='red')\n",
    "plt.xlabel('Ratio of Women to Men')\n",
    "plt.title('Rep Sample Stats'); "
   ]
  },
  {
   "cell_type": "code",
   "execution_count": 33,
   "metadata": {
    "collapsed": false
   },
   "outputs": [
    {
     "name": "stdout",
     "output_type": "stream",
     "text": [
      "Dem p-value: 0\n",
      "Rep p-value: 0\n",
      "P-value less than 0.05 for both so we reject the null. That is, the ratio of female to male\n",
      "appointees is more skewed in favor of men than can be explained by random chance.\n"
     ]
    }
   ],
   "source": [
    "dem_p_val = sum(dem_stats <= dem_pop_stat)/len(dem_stats)\n",
    "rep_p_val = sum(rep_stats <= rep_pop_stat)/len(rep_stats)\n",
    "print('Dem p-value: %d' % (dem_p_val))\n",
    "print('Rep p-value: %d' % (rep_p_val))\n",
    "print('P-value less than 0.05 for both so we reject the null. That is, the ratio of female to male') \n",
    "print('appointees is more skewed in favor of men than can be explained by random chance.')"
   ]
  },
  {
   "cell_type": "code",
   "execution_count": null,
   "metadata": {
    "collapsed": true
   },
   "outputs": [],
   "source": []
  },
  {
   "cell_type": "code",
   "execution_count": null,
   "metadata": {
    "collapsed": true
   },
   "outputs": [],
   "source": [
    "#frequency of press releases"
   ]
  },
  {
   "cell_type": "code",
   "execution_count": null,
   "metadata": {
    "collapsed": false
   },
   "outputs": [],
   "source": []
  },
  {
   "cell_type": "code",
   "execution_count": 169,
   "metadata": {
    "collapsed": false
   },
   "outputs": [],
   "source": [
    "full_tbl['temp'] = all_dates\n",
    "full_tbl['month'] = full_tbl['temp'].apply(lambda x: str(x)[0:3])\n",
    "full_tbl['year'] = full_tbl['temp'].apply(lambda x: str(x)[-4:])\n",
    "full_tbl.drop('temp', axis = 1, inplace = True)\n",
    "grouped = full_tbl.groupby(['year', 'month']).count()\n",
    "#fig, ax = plt.subplots()\n",
    "#grouped.rename(columns = {'release_id': 'count'}).loc[:, ['count']].plot(figsize = (8,6), use_index = True)\n",
    "#plt.title('Frequency of Press Releases');"
   ]
  },
  {
   "cell_type": "code",
   "execution_count": 173,
   "metadata": {
    "collapsed": false
   },
   "outputs": [
    {
     "data": {
      "image/png": "[encoded data removed]",
      "text/plain": [
       "<matplotlib.figure.Figure at 0x116511128>"
      ]
     },
     "metadata": {},
     "output_type": "display_data"
    }
   ],
   "source": [
    "str(full_tbl.date.values[1])[2:7] #+ '-' + str(full_tbl.date.values[1])[2:4] \n",
    "full_tbl['year, month'] = full_tbl['date'].apply(lambda x: str(x)[2:7])\n",
    "grouped = full_tbl.groupby('year, month').count().iloc[:-1].loc[:, ['release_id']].rename(columns = {'release_id':'count'})\n",
    "grouped.plot(figsize = (8,6))\n",
    "plt.title('Frequency of Press Releases');"
   ]
  },
  {
   "cell_type": "code",
   "execution_count": null,
   "metadata": {
    "collapsed": true
   },
   "outputs": [],
   "source": []
  }
 ],
 "metadata": {
  "anaconda-cloud": {},
  "kernelspec": {
   "display_name": "Python [default]",
   "language": "python",
   "name": "python3"
  },
  "language_info": {
   "codemirror_mode": {
    "name": "ipython",
    "version": 3
   },
   "file_extension": ".py",
   "mimetype": "text/x-python",
   "name": "python",
   "nbconvert_exporter": "python",
   "pygments_lexer": "ipython3",
   "version": "3.5.2"
  }
 },
 "nbformat": 4,
 "nbformat_minor": 1
}
