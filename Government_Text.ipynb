{
 "cells": [
  {
   "cell_type": "code",
   "execution_count": 1,
   "metadata": {},
   "outputs": [],
   "source": [
    "import re\n",
    "import os.path\n",
    "import io\n",
    "#"
   ]
  },
  {
   "cell_type": "code",
   "execution_count": 2,
   "metadata": {},
   "outputs": [],
   "source": [
    "textFiles =  '/Users/AustinT/Desktop/lib-gov/all_text'\n",
    "textFile = '/Users/AustinT/Desktop/lib-gov/all_text/release1.txt'"
   ]
  },
  {
   "cell_type": "code",
   "execution_count": 3,
   "metadata": {},
   "outputs": [],
   "source": [
    "# with open(textFile, \"r\") as f:\n",
    "#     text = f.read()\n",
    "# print(text)"
   ]
  },
  {
   "cell_type": "code",
   "execution_count": 4,
   "metadata": {},
   "outputs": [
    {
     "name": "stdout",
     "output_type": "stream",
     "text": [
      "/Users/AustinT/Desktop/lib-gov/all_text/release1.txt\n",
      "1\n"
     ]
    }
   ],
   "source": [
    "all_text = []\n",
    "for file in os.listdir(textFiles):\n",
    "    if file != '.DS_Store':\n",
    "#         all_text.append(file)\n",
    "        all_text.append(os.path.join(textFiles, file))\n",
    "print(all_text[0])\n",
    "print(len(all_text))"
   ]
  },
  {
   "cell_type": "code",
   "execution_count": 7,
   "metadata": {},
   "outputs": [
    {
     "name": "stdout",
     "output_type": "stream",
     "text": [
      "['media-advisories', 'press-releases']\n",
      "['Governor Brown to Meet with Local Government Leaders Tomorrow in Sacramento']\n",
      "['Jan 03, 2011']\n",
      "['<div style=\"float: left;padding-right: 8px\"><img src=\"https://www.gov.ca.gov/wp-content/uploads/2011/01/i17005.png\" alt=\"\" width=\"320\" height=\"213\" /></div>\\n<p><a href=\"https://www.gov.ca.gov/wp-content/uploads/2017/07/i17005lb0.png\" class=\"gallery-item\"><img src=\"https://www.gov.ca.gov/wp-content/uploads/2011/01/t17005lb0.png\" alt=\"Picture\" /></a> <a href=\"https://www.gov.ca.gov/wp-content/uploads/2017/07/i17005lb1.png\" class=\"gallery-item\"><img src=\"https://www.gov.ca.gov/wp-content/uploads/2011/01/t17005lb1.png\" alt=\"Picture\" /></a> <a href=\"https://www.gov.ca.gov/wp-content/uploads/2017/07/i17005lb2.png\" class=\"gallery-item\"><img src=\"https://www.gov.ca.gov/wp-content/uploads/2011/01/t17005lb2.png\" alt=\"Picture\" /></a> <a href=\"https://www.gov.ca.gov/wp-content/uploads/2017/07/i17005lb3.png\" class=\"gallery-item\"><img src=\"https://www.gov.ca.gov/wp-content/uploads/2011/01/t17005lb3.png\" alt=\"Picture\" /></a> <br />\\nSACRAMENTO &#8211; Governor Jerry Brown will meet tomorrow with county government leaders at the headquarters of the California State Association of Counties (CSAC) to discuss the state’s fiscal challenges and his commitment to returning decision making and authority to local governments.</p>\\n<p>When: Tomorrow, Tuesday, January 4, 2010 at 10:00 a.m.</p>\\n<p>Where: California State Association of Counties, 1100 K Street, Sacramento, CA 95814</p>\\n<p>Who:<br />\\nGovernor Jerry Brown<br />\\nDepartment of Finance Director Ana Matosantos <br />\\nCSAC President and Riverside County Supervisor John Tavaglione <br />\\nCSAC 1st Vice President and Yolo County Supervisor Mike McGowan<br />\\nCSAC 2nd Vice President and Del Norte County Supervisor David Finigan<br />\\nCSAC staff members</p>\\n<p>**Note: Meeting is closed to the press, but the Governor may be available for brief Q&amp;A depending on his schedule.</p>\\n<div style=\"text-align: center;\">']\n",
      "['4507']\n"
     ]
    }
   ],
   "source": [
    "for textFile in all_text: # Change to length of list\n",
    "    with open(textFile, \"r\") as f:\n",
    "        curr_text = f.read()\n",
    "    categories = re.findall(\"\"\"category-([\\w-]+)\"\"\", curr_text)\n",
    "    print(categories)\n",
    "    title = re.findall(\"\"\"<h1 class=\\\"[^\\\"]+\\\".*?>(.+?)<\\/h1>\"\"\", curr_text)\n",
    "    print(title)\n",
    "    date = re.findall(\"\"\"Published: <time datetime=\\\"(.*?)\\\"\"\"\", curr_text)\n",
    "    print(date)\n",
    "    post_id = re.findall(\"\"\"<article id=\\\"post-([\\d]+)\\\"\"\"\", curr_text)\n",
    "    print(post_id)\n",
    "    if 'appointments' in categories:\n",
    "        \n",
    "    elif 'legislation' in categories:\n",
    "        \n",
    "    else:\n",
    "        content = re.findall(\"\"\"<div class=\\\"entry-content\\\">([\\s\\S]+?)###\"\"\", curr_text)\n",
    "        print(content)"
   ]
  },
  {
   "cell_type": "code",
   "execution_count": 9,
   "metadata": {},
   "outputs": [
    {
     "data": {
      "text/plain": [
       "['4507']"
      ]
     },
     "execution_count": 9,
     "metadata": {},
     "output_type": "execute_result"
    }
   ],
   "source": [
    "re.findall(\"\"\"<article id=\\\"post-([\\d]+)\\\"\"\"\", curr_text)"
   ]
  },
  {
   "cell_type": "code",
   "execution_count": null,
   "metadata": {},
   "outputs": [],
   "source": []
  }
 ],
 "metadata": {
  "kernelspec": {
   "display_name": "Python 3",
   "language": "python",
   "name": "python3"
  },
  "language_info": {
   "codemirror_mode": {
    "name": "ipython",
    "version": 3
   },
   "file_extension": ".py",
   "mimetype": "text/x-python",
   "name": "python",
   "nbconvert_exporter": "python",
   "pygments_lexer": "ipython3",
   "version": "3.6.5"
  }
 },
 "nbformat": 4,
 "nbformat_minor": 2
}
