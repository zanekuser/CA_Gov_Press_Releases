{
 "cells": [
  {
   "cell_type": "code",
   "execution_count": 1,
   "metadata": {},
   "outputs": [],
   "source": [
    "import re\n",
    "import os.path\n",
    "import io\n",
    "from bs4 import BeautifulSoup\n",
    "#"
   ]
  },
  {
   "cell_type": "code",
   "execution_count": 2,
   "metadata": {},
   "outputs": [],
   "source": [
    "textFiles =  '/Users/AustinT/Desktop/lib-gov/all_text'\n",
    "textFile = '/Users/AustinT/Desktop/lib-gov/all_text/release1.txt'"
   ]
  },
  {
   "cell_type": "code",
   "execution_count": 3,
   "metadata": {},
   "outputs": [],
   "source": [
    "# with open(textFile, \"r\") as f:\n",
    "#     text = f.read()\n",
    "# print(text)"
   ]
  },
  {
   "cell_type": "code",
   "execution_count": 4,
   "metadata": {},
   "outputs": [
    {
     "name": "stdout",
     "output_type": "stream",
     "text": [
      "/Users/AustinT/Desktop/lib-gov/all_text/release2455.txt\n",
      "2\n"
     ]
    }
   ],
   "source": [
    "all_text = []\n",
    "for file in os.listdir(textFiles):\n",
    "    if file != '.DS_Store':\n",
    "#         all_text.append(file)\n",
    "        all_text.append(os.path.join(textFiles, file))\n",
    "print(all_text[0])\n",
    "print(len(all_text))"
   ]
  },
  {
   "cell_type": "code",
   "execution_count": 10,
   "metadata": {},
   "outputs": [],
   "source": [
    "# Global Lists for all Texts\n",
    "all_titles = []\n",
    "all_dates = []\n",
    "all_post_id = []\n",
    "all_locations = []\n",
    "all_categories = [] # list within list\n",
    "all_entry_content = []\n",
    "\n",
    "# Global Lists for Legislation Texts\n",
    "bill_number = [] # i.e. AB ###\n",
    "bill_author = []\n",
    "bill_party = []\n",
    "bill_author = []\n",
    "bill_postID = []\n",
    "bill_title = []\n",
    "bill_veto = [] # True = Veto\n",
    "bill_pdf_link = []\n",
    "\n",
    "# Global Lists for Appointments\n",
    "app_name = []\n",
    "app_role = []\n",
    "app_party = []\n",
    "app_compensation = []"
   ]
  },
  {
   "cell_type": "code",
   "execution_count": 17,
   "metadata": {},
   "outputs": [
    {
     "name": "stdout",
     "output_type": "stream",
     "text": [
      "AB 237 by Assemblymember Lorena Gonzalez Fletcher (D-San Diego) – Pilot Program for Increased Access to Responsible Small Dollar Loans. A signing message can be found here.\n",
      "AB 1214 by Assemblymember Mark Stone (D-Scotts Valley) – Juvenile proceedings: competency.\n",
      "AB 1617 by Assemblymember Richard Bloom (D-Santa Monica) – Juvenile case files: inspection.\n",
      "AB 1793 by Assemblymember Rob Bonta (D-Alameda) – Cannabis convictions: resentencing.\n",
      "AB 2012 by Assemblymember Jose Medina (D-Riverside) – School and community college employees: parental leave.\n",
      "AB 2138 by Assemblymember David Chiu (D-San Francisco) – Licensing boards: denial of application: revocation or suspension of licensure: criminal conviction.\n",
      "AB 2234 by Assemblymember Reggie Jones-Sawyer (D-Los Angeles) – School districts: employees: dismissal or suspension administrative proceedings: testimony of minor witnesses: pupil contact information.\n",
      "AB 2448 by Assemblymember Mike Gipson (D-Carson) – Juveniles: rights: computing technology.\n",
      "AB 2657 by Assemblymember Shirley Weber (D-San Diego) – Pupil discipline: restraint and seclusion.\n",
      "AB 2887 by Assemblymember Cecilia Aguiar-Curry (D-Winters) – Migrant farm labor centers.\n",
      "AB 2923 by Assemblymember David Chiu (D-San Francisco) – San Francisco Bay Area Rapid Transit District: transit-oriented development.\n",
      "AB 2942 by Assemblymember Philip Ting (D-San Francisco) – Criminal procedure: recall of sentencing.\n",
      "AB 2952 by Assemblymember Mark Stone (D-Scotts Valley) – Juvenile records: sealed records: access.\n",
      "AB 3189 by Assemblymember Jim Cooper (D-Elk Grove) – Consent by minors to treatment for intimate partner violence.\n",
      "SB 212 by Senator Hannah-Beth Jackson (D-Santa Barbara) – Solid waste: pharmaceutical and sharps waste stewardship. A signing message can be found here.\n",
      "SB 215 by Senator Jim Beall (D-San Jose) – Diversion: mental disorders.\n",
      "SB 439 by Senator Holly Mitchell (D-Los Angeles) – Jurisdiction of the juvenile court.\n",
      "SB 1106 by Senator Jerry Hill (D-San Mateo) – Young adults: deferred entry of judgment pilot program.\n",
      "SB 1187 by Senator Jim Beall (D-San Jose) – Competence to stand trial.\n",
      "SB 1195 by Senator Anthony Portantino (D-La Cañada Flintridge) – Public Employees’ Medical and Hospital Care Act: health benefit plans.\n",
      "SB 1226 by Senator Patricia Bates (R-Laguna Niguel) – Building standards: building permits.\n",
      "SB 1235 by Senator Steven Glazer (D-Orinda) – Commercial financing: disclosures.\n",
      "SB 1391 by Senator Ricardo Lara (D-Bell Gardens) – Juveniles: fitness for juvenile court. A signing message can be found here.\n",
      "SB 1393 by Senator Holly Mitchell (D-Los Angeles) – Sentencing.\n",
      "SB 1397 by Senator Jerry Hill (D-San Mateo) – Automated external defibrillators: requirement: modifications to existing buildings.\n",
      "SB 1437 by Senator Nancy Skinner (D-Berkeley) – Accomplice liability for felony murder.\n",
      "AB 186 by Assemblymember Susan Talamantes Eggman (D-Stockton) – Controlled substances: overdose prevention program. A veto message can be found here.\n",
      "AB 1080 by Assemblymember Lorena Gonzalez Fletcher (D-San Diego) – Public contracts: bid preferences: employee health care coverage. A veto message can be found here.\n",
      "AB 1597 by Assemblymember Adrin Nazarian (D-North Hollywood) – Public employee retirement systems: prohibited investments: Turkey. A veto message can be found here.\n",
      "AB 1870 by Assemblymember Eloise Gómez Reyes (D-Grand Terrace) – Employment discrimination: limitation of actions. A veto message can be found here.\n",
      "AB 2079 by Assemblymember Lorena Gonzalez Fletcher (D-San Diego) – Janitorial workers: sexual violence and harassment prevention training. A veto message can be found here.\n",
      "AB 2107 by Assemblymember Eloise Gómez Reyes (D-Grand Terrace) – New Motor Vehicle Board. A veto message can be found here.\n",
      "AB 2534 by Assemblymember Monique Limόn (D-Goleta) – Public resources: environmental education: grant program: Hollister Ranch. A veto message can be found here.\n",
      "AB 2689 by Assemblymember Adam Gray (D-Merced) – Contribution and gift ban: Senate or Assembly confirmation. A veto message can be found here.\n",
      "AB 2720 by Assemblymember Marie Waldron (R-Escondido) – Juveniles: juvenile reentry. A veto message can be found here.\n",
      "AB 2732 by Assemblymember Lorena Gonzalez Fletcher (D-San Diego) – Employment: unfair immigration-related practices: janitorial workers: sexual violence and harassment prevention training. A veto message can be found here.\n",
      "AB 2819 by Assemblymember Chris Holden (D-Pasadena) – University of California: study: high technology companies: employees. A veto message can be found here.\n",
      "AB 3080 by Assemblymember Lorena Gonzalez Fletcher (D-San Diego) – Employment discrimination: enforcement. A veto message can be found here.\n",
      "AB 3081 by Assemblymember Lorena Gonzalez Fletcher (D-San Diego) – Employment: sexual harassment. A veto message can be found here.\n",
      "AB 3115 by Assemblymember Mike Gipson (D-Carson) – Community Paramedicine or Triage to Alternate Destination Act. A veto message can be found here.\n",
      "AB 3120 by Assemblymember Lorena Gonzalez Fletcher (D-San Diego) – Damages: childhood sexual assault: statute of limitations. A veto message can be found here.\n",
      "SB 1272 by Senator Cathleen Galgiani (D-Stockton) – Tax Recovery and Criminal Enforcement (TRaCE) Task Force. A veto message can be found here.\n",
      "SB 1427 by Senator Jerry Hill (D-San Mateo) – Discrimination: veteran or military status. A veto message can be found here.\n"
     ]
    }
   ],
   "source": [
    "for textFile in all_text: # Change to length of list\n",
    "    with open(textFile, \"r\") as f:\n",
    "        curr_text = f.read()\n",
    "    #\n",
    "    title = re.findall(\"\"\"<h1 class=\\\"[^\\\"]+\\\".*?>(.+?)<\\/h1>\"\"\", curr_text)[0]\n",
    "    all_titles.append(title)\n",
    "    #\n",
    "    date = re.findall(\"\"\"Published: <time datetime=\\\"(.*?)\\\"\"\"\", curr_text)[0]\n",
    "    all_dates.append(date)\n",
    "    #\n",
    "    post_id = re.findall(\"\"\"<article id=\\\"post-([\\d]+)\\\"\"\"\", curr_text)[0]\n",
    "    all_post_id.append(post_id)\n",
    "    #\n",
    "    location = 'null'\n",
    "    all_locations.append(location)\n",
    "    #\n",
    "    categories = re.findall(\"\"\"category-([\\w-]+)\"\"\", curr_text)\n",
    "    all_categories.append(categories)\n",
    "    #\n",
    "    curr1_text = re.findall(\"\"\"<div class=\\\"entry-content\\\">([\\s\\S]+?)###\"\"\", curr_text)\n",
    "    souped = BeautifulSoup(curr1_text[0], 'html.parser')\n",
    "    all_entry_content.append(souped.get_text())\n",
    "    #\n",
    "    if 'appointments' in categories:\n",
    "        names = []\n",
    "        roles = []\n",
    "        party = []\n",
    "        compensation = [] # null otherwise\n",
    "    elif 'legislation' in categories:\n",
    "        for ultag in souped.find_all('ul'):\n",
    "            for litag in ultag.find_all('li'):\n",
    "                print(litag.text)\n",
    "                for a in litag.find_all('a'):\n",
    "                    bill_pdf_link.append(a)"
   ]
  },
  {
   "cell_type": "code",
   "execution_count": 16,
   "metadata": {},
   "outputs": [
    {
     "name": "stdout",
     "output_type": "stream",
     "text": [
      "[<a href=\"https://www.gov.ca.gov/wp-content/uploads/2018/09/AB-237-signing-message.pdf\">here</a>, <a href=\"https://www.gov.ca.gov/wp-content/uploads/2018/09/SB-212-signing-message.pdf\">here</a>, <a href=\"https://www.gov.ca.gov/wp-content/uploads/2018/09/SB-1391-signing-message.pdf\">here</a>, <a href=\"https://www.gov.ca.gov/wp-content/uploads/2018/09/AB-186-veto-9.30.pdf\">here</a>, <a href=\"https://www.gov.ca.gov/wp-content/uploads/2018/09/AB-1080-veto.pdf\">here</a>, <a href=\"https://www.gov.ca.gov/wp-content/uploads/2018/09/AB-1597-veto.pdf\">here</a>, <a href=\"https://www.gov.ca.gov/wp-content/uploads/2018/09/AB-1870-veto.pdf\">here</a>, <a href=\"https://www.gov.ca.gov/wp-content/uploads/2018/09/AB-2079-veto.pdf\">here</a>, <a href=\"https://www.gov.ca.gov/wp-content/uploads/2018/09/AB-2107-veto.pdf\">here.</a>, <a href=\"https://www.gov.ca.gov/wp-content/uploads/2018/09/AB-2534-veto-9.30.pdf\">here</a>, <a href=\"https://www.gov.ca.gov/wp-content/uploads/2018/09/AB-2689-veto.pdf\">here</a>, <a href=\"https://www.gov.ca.gov/wp-content/uploads/2018/09/AB-2720-veto.pdf\">here</a>, <a href=\"https://www.gov.ca.gov/wp-content/uploads/2018/09/AB-2732-veto-9.30.pdf\">here</a>, <a href=\"https://www.gov.ca.gov/wp-content/uploads/2018/09/AB-2819-veto.pdf\">here</a>, <a href=\"https://www.gov.ca.gov/wp-content/uploads/2018/09/AB-3080-veto-9.30.pdf\">here</a>, <a href=\"https://www.gov.ca.gov/wp-content/uploads/2018/09/AB-3081-veto.pdf\">here</a>, <a href=\"https://www.gov.ca.gov/wp-content/uploads/2018/09/AB-3115-veto.pdf\">here</a>, <a href=\"https://www.gov.ca.gov/wp-content/uploads/2018/09/AB-3120-veto.pdf\">here</a>, <a href=\"https://www.gov.ca.gov/wp-content/uploads/2018/09/SB-1272-veto.pdf\">here</a>, <a href=\"https://www.gov.ca.gov/wp-content/uploads/2018/09/SB-1427-veto.pdf\">here</a>]\n"
     ]
    }
   ],
   "source": [
    "print(bill_pdf_link)"
   ]
  },
  {
   "cell_type": "code",
   "execution_count": null,
   "metadata": {},
   "outputs": [],
   "source": []
  }
 ],
 "metadata": {
  "kernelspec": {
   "display_name": "Python 3",
   "language": "python",
   "name": "python3"
  },
  "language_info": {
   "codemirror_mode": {
    "name": "ipython",
    "version": 3
   },
   "file_extension": ".py",
   "mimetype": "text/x-python",
   "name": "python",
   "nbconvert_exporter": "python",
   "pygments_lexer": "ipython3",
   "version": "3.6.5"
  }
 },
 "nbformat": 4,
 "nbformat_minor": 2
}
