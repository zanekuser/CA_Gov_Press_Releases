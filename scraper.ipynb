{
 "cells": [
  {
   "cell_type": "code",
   "execution_count": 11,
   "metadata": {},
   "outputs": [],
   "source": [
    "import os\n",
    "import urllib\n",
    "import requests\n",
    "from selenium import webdriver\n",
    "from selenium.webdriver.common.keys import Keys\n",
    "from time import sleep"
   ]
  },
  {
   "cell_type": "code",
   "execution_count": 12,
   "metadata": {},
   "outputs": [],
   "source": [
    "path_to_driver = 'C:/Users/Anne Tambe/Desktop/chromedriver.exe'\n",
    "prs = webdriver.Chrome(path_to_driver)"
   ]
  },
  {
   "cell_type": "code",
   "execution_count": 13,
   "metadata": {},
   "outputs": [],
   "source": [
    "prs.get('https://www.gov.ca.gov/all-press-releases/')"
   ]
  },
  {
   "cell_type": "code",
   "execution_count": 15,
   "metadata": {},
   "outputs": [],
   "source": [
    "links = prs.find_elements_by_class_name(\"more-link\")\n",
    "save_path = 'C:/Users/Anne Tambe/Desktop/LiberatingArchivesClass-master/Gov'\n",
    "num_links = len(links)\n",
    "for i in range(num_links):\n",
    "    link = links[i].get_attribute('href')\n",
    "    r = requests.get(link)\n",
    "    file_name = 'release' + str(num_links - i)\n",
    "    full_path = os.path.join(save_path, file_name + \".txt\")\n",
    "    file = open(full_path,'wb')\n",
    "    file.write(r.content)\n",
    "    file.close()\n",
    "    sleep(.5)\n",
    "prs.quit()"
   ]
  },
  {
   "cell_type": "code",
   "execution_count": null,
   "metadata": {
    "collapsed": true
   },
   "outputs": [],
   "source": []
  }
 ],
 "metadata": {
  "anaconda-cloud": {},
  "kernelspec": {
   "display_name": "Python 3",
   "language": "python",
   "name": "python3"
  },
  "language_info": {
   "codemirror_mode": {
    "name": "ipython",
    "version": 3
   },
   "file_extension": ".py",
   "mimetype": "text/x-python",
   "name": "python",
   "nbconvert_exporter": "python",
   "pygments_lexer": "ipython3",
   "version": "3.6.5"
  }
 },
 "nbformat": 4,
 "nbformat_minor": 1
}
